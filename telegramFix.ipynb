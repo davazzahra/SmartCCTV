{
 "cells": [
  {
   "cell_type": "code",
   "execution_count": null,
   "id": "1191ab91",
   "metadata": {},
   "outputs": [],
   "source": [
    "import cv2\n",
    "import numpy as np\n",
    "from keras.models import load_model\n",
    "from yoloface import face_analysis\n",
    "import logging\n",
    "from telegram import Bot, Update\n",
    "from telegram.ext import Updater, CommandHandler, MessageHandler, Filters, CallbackContext\n",
    "from flask import Flask, render_template, Response\n",
    "import os"
   ]
  },
  {
   "cell_type": "code",
   "execution_count": null,
   "id": "b9b00922",
   "metadata": {},
   "outputs": [],
   "source": [
    "# Ganti dengan token API bot Anda\n",
    "TOKEN = \"7206067128:AAEkKAzg553otuaBhwL1OxeX94UVpUkP6I0\"\n",
    "CHAT_ID = \"5564023611\"  # Ganti dengan chat_id yang Anda dapatkan"
   ]
  },
  {
   "cell_type": "code",
   "execution_count": null,
   "id": "38dac82e",
   "metadata": {},
   "outputs": [],
   "source": [
    "# Load models\n",
    "try:\n",
    "    model_age = load_model('d:\\SICBatch5\\Model\\model_age.hdf5')\n",
    "    model_gender = load_model('d:\\SICBatch5\\Model\\model_gender.hdf5')\n",
    "    logging.info(\"Models loaded successfully.\")\n",
    "except Exception as e:\n",
    "    logging.error(f\"Error loading models: {e}\")\n",
    "    raise"
   ]
  },
  {
   "cell_type": "code",
   "execution_count": null,
   "id": "bd2a5b3f",
   "metadata": {},
   "outputs": [],
   "source": [
    "# Labels\n",
    "label_gender = ['Male', 'Female']"
   ]
  },
  {
   "cell_type": "code",
   "execution_count": null,
   "id": "0cab790f",
   "metadata": {},
   "outputs": [],
   "source": [
    "logging.basicConfig(\n",
    "    format='%(asctime)s - %(name)s - %(levelname)s - %(message)s',\n",
    "    level=logging.INFO\n",
    ")"
   ]
  },
  {
   "cell_type": "code",
   "execution_count": null,
   "id": "f15c3b33",
   "metadata": {},
   "outputs": [],
   "source": [
    "logger = logging.getLogger(__name__)"
   ]
  },
  {
   "cell_type": "code",
   "execution_count": null,
   "id": "fec5689f",
   "metadata": {
    "lines_to_next_cell": 1
   },
   "outputs": [],
   "source": [
    "# Flask app\n",
    "app = Flask(__name__)"
   ]
  },
  {
   "cell_type": "code",
   "execution_count": null,
   "id": "a3c38541",
   "metadata": {
    "lines_to_next_cell": 1
   },
   "outputs": [],
   "source": [
    "# Fungsi untuk menangani command /start\n",
    "def start(update: Update, context: CallbackContext) -> None:\n",
    "    user = update.effective_user\n",
    "    update.message.reply_text(f'Hello, {user.first_name}! Send me a message and I will reply.')"
   ]
  },
  {
   "cell_type": "code",
   "execution_count": null,
   "id": "d451cb04",
   "metadata": {
    "lines_to_next_cell": 1
   },
   "outputs": [],
   "source": [
    "# Fungsi untuk menangani pesan teks\n",
    "def echo(update: Update, context: CallbackContext) -> None:\n",
    "    update.message.reply_text(f'You said: {update.message.text}')"
   ]
  },
  {
   "cell_type": "code",
   "execution_count": null,
   "id": "2b934146",
   "metadata": {
    "lines_to_next_cell": 1
   },
   "outputs": [],
   "source": [
    "# Fungsi untuk menangani error\n",
    "def error(update: Update, context: CallbackContext) -> None:\n",
    "    logger.warning(f'Update {update} caused error {context.error}')"
   ]
  },
  {
   "cell_type": "code",
   "execution_count": null,
   "id": "a8218fc9",
   "metadata": {},
   "outputs": [],
   "source": [
    "# Buat bot instance\n",
    "bot = Bot(TOKEN)"
   ]
  },
  {
   "cell_type": "code",
   "execution_count": null,
   "id": "ec13f57c",
   "metadata": {},
   "outputs": [],
   "source": [
    "# Buat updater dan pass token bot Anda\n",
    "updater = Updater(TOKEN)"
   ]
  },
  {
   "cell_type": "code",
   "execution_count": null,
   "id": "33133518",
   "metadata": {},
   "outputs": [],
   "source": [
    "# Dapatkan dispatcher untuk mendaftarkan handler\n",
    "dispatcher = updater.dispatcher"
   ]
  },
  {
   "cell_type": "code",
   "execution_count": null,
   "id": "07316520",
   "metadata": {},
   "outputs": [],
   "source": [
    "# Mendaftarkan command handler untuk /start\n",
    "dispatcher.add_handler(CommandHandler(\"start\", start))"
   ]
  },
  {
   "cell_type": "code",
   "execution_count": null,
   "id": "f99faf4b",
   "metadata": {},
   "outputs": [],
   "source": [
    "# Mendaftarkan handler untuk menangani pesan teks\n",
    "dispatcher.add_handler(MessageHandler(Filters.text & ~Filters.command, echo))"
   ]
  },
  {
   "cell_type": "code",
   "execution_count": null,
   "id": "b2601db0",
   "metadata": {},
   "outputs": [],
   "source": [
    "# Log semua error\n",
    "dispatcher.add_error_handler(error)"
   ]
  },
  {
   "cell_type": "code",
   "execution_count": null,
   "id": "8ad930a7",
   "metadata": {
    "lines_to_next_cell": 1
   },
   "outputs": [],
   "source": [
    "# Start the Bot\n",
    "updater.start_polling()"
   ]
  },
  {
   "cell_type": "code",
   "execution_count": null,
   "id": "97db4a58",
   "metadata": {
    "lines_to_next_cell": 1
   },
   "outputs": [],
   "source": [
    "# detect video\n",
    "def gen_frames():\n",
    "    esp32_url = 'http://192.168.43.115/cam-lo.jpg'  # Ganti dengan URL streaming ESP32-CAM Anda\n",
    "    cap = cv2.VideoCapture(esp32_url)\n",
    "    if not cap.isOpened():\n",
    "        logging.error(\"Error opening video capture\")\n",
    "        return\n",
    "\n",
    "    face = face_analysis()\n",
    "\n",
    "    while True:\n",
    "        ret, img = cap.read()\n",
    "        if not ret:\n",
    "            logging.error(\"Failed to grab frame\")\n",
    "            break\n",
    "\n",
    "        img = cv2.flip(img, 1)\n",
    "        _, box, _ = face.face_detection(frame_arr=img, frame_status=True, model='tiny')\n",
    "\n",
    "        for (x, y, w, h) in box:\n",
    "            cv2.rectangle(img, (x, y), (x + w, y + h), (0, 255, 0), 2)\n",
    "            img_detect = cv2.resize(img[y:y + h, x:x + w], (50, 50)).reshape(1, 50, 50, 3)\n",
    "\n",
    "            # Detect Age\n",
    "            age = np.round(model_age.predict(img_detect / 255.0))[0][0]\n",
    "\n",
    "            # Detect Gender\n",
    "            gender_arg = np.round(model_gender.predict(img_detect / 255.0)).astype(np.uint8)\n",
    "            gender = label_gender[gender_arg[0][0]]\n",
    "\n",
    "            # Save the detected face image\n",
    "            face_img = img[y:y + h, x:x + w]\n",
    "            temp_img_path = 'temp.jpg'\n",
    "            cv2.imwrite(temp_img_path, face_img)\n",
    "\n",
    "            # Send message to Telegram\n",
    "            bot.send_message(chat_id=CHAT_ID, text=f\"Detected person: Age = {age}, Gender = {gender}\")\n",
    "            bot.send_photo(chat_id=CHAT_ID, photo=open(temp_img_path, 'rb'))\n",
    "\n",
    "            # Remove the temporary image file\n",
    "            os.remove(temp_img_path)\n",
    "\n",
    "            # Draw\n",
    "            cv2.putText(img, f'Age: {age}, {gender}', (x - 5, y - 5), cv2.FONT_HERSHEY_SIMPLEX, 0.6, (0, 255, 0), 2, cv2.LINE_AA)\n",
    "\n",
    "        # Encode frame in JPEG format\n",
    "        ret, buffer = cv2.imencode('.jpg', img)\n",
    "        frame = buffer.tobytes()\n",
    "        yield (b'--frame\\r\\n'\n",
    "               b'Content-Type: image/jpeg\\r\\n\\r\\n' + frame + b'\\r\\n')\n",
    "\n",
    "    cap.release()\n",
    "    cv2.destroyAllWindows()"
   ]
  },
  {
   "cell_type": "code",
   "execution_count": null,
   "id": "3506bd4c",
   "metadata": {
    "lines_to_next_cell": 1
   },
   "outputs": [],
   "source": [
    "@app.route('/')\n",
    "def index():\n",
    "    return render_template('nyoba.html')"
   ]
  },
  {
   "cell_type": "code",
   "execution_count": null,
   "id": "610a0903",
   "metadata": {
    "lines_to_next_cell": 1
   },
   "outputs": [],
   "source": [
    "@app.route('/halaman2')\n",
    "def another():\n",
    "    return render_template('index.html')"
   ]
  },
  {
   "cell_type": "code",
   "execution_count": null,
   "id": "503b7323",
   "metadata": {
    "lines_to_next_cell": 1
   },
   "outputs": [],
   "source": [
    "@app.route('/video_feed')\n",
    "def video_feed():\n",
    "    return Response(gen_frames(), mimetype='multipart/x-mixed-replace; boundary=frame')"
   ]
  },
  {
   "cell_type": "code",
   "execution_count": null,
   "id": "2054a692",
   "metadata": {},
   "outputs": [],
   "source": [
    "if __name__ == \"__main__\":\n",
    "    logging.info(\"Starting video detection...\")\n",
    "    app.run(host='0.0.0.0', port=5000)\n",
    "    updater.idle()"
   ]
  }
 ],
 "metadata": {
  "jupytext": {
   "cell_metadata_filter": "-all",
   "main_language": "python",
   "notebook_metadata_filter": "-all"
  },
  "language_info": {
   "name": "python"
  }
 },
 "nbformat": 4,
 "nbformat_minor": 5
}
