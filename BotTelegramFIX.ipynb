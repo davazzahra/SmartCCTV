{
 "cells": [
  {
   "cell_type": "code",
   "execution_count": null,
   "id": "d0f9cbc2",
   "metadata": {
    "lines_to_next_cell": 1
   },
   "outputs": [],
   "source": [
    "# Token bot Telegram\n",
    "TOKEN = '7206067128:AAEkKAzg553otuaBhwL1OxeX94UVpUkP6I0'\n",
    "bot = telebot.TeleBot(TOKEN)"
   ]
  },
  {
   "cell_type": "code",
   "execution_count": null,
   "id": "657cfbd4",
   "metadata": {
    "lines_to_next_cell": 1
   },
   "outputs": [],
   "source": [
    "# Handler untuk perintah /start\n",
    "@bot.message_handler(commands=['start'])\n",
    "def send_welcome(message):\n",
    "    chat_id = message.chat.id  # Mengambil ID chat pengguna\n",
    "    bot.reply_to(message, f'Halo! ID chat Anda adalah {chat_id}. Apa kabar sobat?')"
   ]
  },
  {
   "cell_type": "code",
   "execution_count": null,
   "id": "ac413adc",
   "metadata": {
    "lines_to_next_cell": 1
   },
   "outputs": [],
   "source": [
    "# Handler untuk perintah /help\n",
    "@bot.message_handler(commands=['help'])\n",
    "def send_help(message):\n",
    "    bot.reply_to(message, 'Apa yang bisa saya bantu?')"
   ]
  },
  {
   "cell_type": "code",
   "execution_count": null,
   "id": "55d088ae",
   "metadata": {
    "lines_to_next_cell": 1
   },
   "outputs": [],
   "source": [
    "# Handler untuk pesan teks biasa\n",
    "@bot.message_handler(func=lambda message: True)\n",
    "def echo_message(message):\n",
    "    bot.reply_to(message, f'Terima kasih telah mengirim pesan: \"{message.text}\"')"
   ]
  },
  {
   "cell_type": "code",
   "execution_count": null,
   "id": "24a1c307",
   "metadata": {},
   "outputs": [],
   "source": [
    "# Memulai polling bot\n",
    "bot.polling()"
   ]
  }
 ],
 "metadata": {
  "jupytext": {
   "cell_metadata_filter": "-all",
   "main_language": "python",
   "notebook_metadata_filter": "-all"
  }
 },
 "nbformat": 4,
 "nbformat_minor": 5
}
